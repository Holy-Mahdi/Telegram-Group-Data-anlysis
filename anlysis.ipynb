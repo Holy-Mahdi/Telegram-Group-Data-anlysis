{
 "cells": [
  {
   "cell_type": "code",
   "execution_count": 1,
   "id": "2ed47f67",
   "metadata": {},
   "outputs": [],
   "source": [
    "import pandas as pd\n",
    "from collections import Counter\n",
    "import re"
   ]
  },
  {
   "cell_type": "code",
   "execution_count": 3,
   "id": "14cd0be3",
   "metadata": {},
   "outputs": [],
   "source": [
    "df = pd.read_csv(\"cleaned_messages.csv\", header=None , names=[\"message\"])"
   ]
  },
  {
   "cell_type": "code",
   "execution_count": 4,
   "id": "1f7c5748",
   "metadata": {},
   "outputs": [],
   "source": [
    "text = \" \".join(df[\"message\"].astype(str))"
   ]
  },
  {
   "cell_type": "code",
   "execution_count": 5,
   "id": "a662365e",
   "metadata": {},
   "outputs": [],
   "source": [
    "text = re.sub(r\"[^آ-یA-Za-z0-9\\s]\", \" \", text)"
   ]
  },
  {
   "cell_type": "code",
   "execution_count": 6,
   "id": "66187572",
   "metadata": {},
   "outputs": [],
   "source": [
    "words = text.split()\n"
   ]
  },
  {
   "cell_type": "code",
   "execution_count": 7,
   "id": "53bdbc85",
   "metadata": {},
   "outputs": [],
   "source": [
    "word_counts = Counter(words)\n"
   ]
  },
  {
   "cell_type": "code",
   "execution_count": 10,
   "id": "b7853810",
   "metadata": {},
   "outputs": [
    {
     "name": "stdout",
     "output_type": "stream",
     "text": [
      "[('تو', 58867), ('من', 57490), ('nan', 43299), ('از', 35438), ('به', 34238), ('و', 32652), ('که', 32634), ('نه', 26040), ('این', 25602), ('با', 24477), ('چی', 19456), ('رو', 19151), ('دیگه', 18891), ('یه', 18848), ('ولی', 18837), ('ک', 18681), ('چرا', 18184), ('هم', 16957), ('اره', 16517), ('بود', 15536), ('کن', 15264), ('خیلی', 14895), ('باشه', 14730), ('خب', 14547), ('منم', 13587), ('ب', 12262), ('ای', 12168), ('تا', 12126), ('اون', 11701), ('دارم', 11652)]\n"
     ]
    }
   ],
   "source": [
    "print(word_counts.most_common(30))\n"
   ]
  },
  {
   "cell_type": "code",
   "execution_count": 11,
   "id": "42347be7",
   "metadata": {},
   "outputs": [],
   "source": [
    "stopwords = set([\n",
    "    \"از\", \"به\", \"و\", \"که\", \"این\", \"با\", \"تا\", \"هم\", \"را\", \"برای\",\n",
    "    \"ولی\", \"یا\", \"من\", \"تو\", \"اون\", \"یه\", \"نه\", \"خب\", \"ب\", \"ک\",\n",
    "    \"ای\", \"اما\", \"اگر\", \"اگرچه\", \"چون\", \"هر\", \"همه\"\n",
    "])"
   ]
  },
  {
   "cell_type": "code",
   "execution_count": 12,
   "id": "d773f507",
   "metadata": {},
   "outputs": [],
   "source": [
    "cleaned_counts = {w: c for w, c in word_counts.items() if w not in stopwords and w != \"nan\"}\n"
   ]
  },
  {
   "cell_type": "code",
   "execution_count": 13,
   "id": "86137c76",
   "metadata": {},
   "outputs": [
    {
     "name": "stdout",
     "output_type": "stream",
     "text": [
      "[('چی', 19456), ('رو', 19151), ('دیگه', 18891), ('چرا', 18184), ('اره', 16517), ('بود', 15536), ('کن', 15264), ('خیلی', 14895), ('باشه', 14730), ('منم', 13587), ('دارم', 11652), ('چه', 11406), ('داره', 11110), ('الان', 11083), ('فقط', 10437), ('شد', 10187), ('بیا', 10065), ('میشه', 10000), ('کنم', 9875), ('سلام', 9842), ('ی', 9802), ('بابا', 9759), ('در', 9630), ('شما', 9473), ('باید', 9360), ('پس', 9221), ('نیست', 9138), ('خوبی', 9091), ('میکنم', 8859), ('داری', 8837)]\n"
     ]
    }
   ],
   "source": [
    "sorted_counts = sorted(cleaned_counts.items(), key=lambda x: x[1], reverse=True)[:30]\n",
    "print(sorted_counts)"
   ]
  },
  {
   "cell_type": "code",
   "execution_count": null,
   "id": "7bdbcaa2",
   "metadata": {},
   "outputs": [],
   "source": [
    "word_freq_df = pd.DataFrame(sorted_counts)"
   ]
  }
 ],
 "metadata": {
  "kernelspec": {
   "display_name": "Python 3",
   "language": "python",
   "name": "python3"
  },
  "language_info": {
   "codemirror_mode": {
    "name": "ipython",
    "version": 3
   },
   "file_extension": ".py",
   "mimetype": "text/x-python",
   "name": "python",
   "nbconvert_exporter": "python",
   "pygments_lexer": "ipython3",
   "version": "3.12.10"
  }
 },
 "nbformat": 4,
 "nbformat_minor": 5
}
